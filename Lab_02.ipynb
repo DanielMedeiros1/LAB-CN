{
 "cells": [
  {
   "cell_type": "markdown",
   "id": "3b95e02b",
   "metadata": {},
   "source": [
    "# **Laboratório 02 - Resolução de Equações Não-lineares**\n",
    "\n",
    "Aluno:\n",
    "\n",
    "**Método da Bissecção**\n",
    "\n",
    "* passo 01 - Entradas $(a, b, tol)$ de modo que $f(a).f(b) < 0.$\n",
    "* passo 02 - Estimativa da raiz\n",
    "$$\n",
    "x_r = \\frac{a + b}{2}\n",
    "$$\n",
    "\n",
    "**se** $\\,\\,f(a).f(x_r) < 0$\n",
    "$$\n",
    "b \\leftarrow x_r\n",
    "$$\n",
    "volte ao passo 02\n",
    "\n",
    "**else**\n",
    "$$\n",
    "a \\leftarrow x_r\n",
    "$$\n",
    "\n",
    "**se** $\\,\\,E_r \\leq tol$ $\\rightarrow x_r$ é solução.\n",
    "\n",
    "\n",
    "Exemplo 01 - Obter uma raiz do seguinte polinômio:\n",
    "\n",
    "$$\n",
    "p(x) = 2x^2 - 5x + 3\n",
    "$$"
   ]
  },
  {
   "cell_type": "markdown",
   "id": "d266f59b",
   "metadata": {},
   "source": [
    "**Método de Newton**\n",
    "\n",
    "* passo 01 - Defina $tol$ e escolha $x_0$ de modo que\n",
    "\n",
    "$$\n",
    " f(x_0).f^{\\prime \\prime}(x_0) > 0.\n",
    "$$\n",
    "\n",
    "* passo 02 - para $i = 0,1,2, \\cdots , n.$\n",
    "\n",
    "$$\n",
    "x_{i+1} = x_i - \\frac{f(x_i)}{f^{\\prime}(x_i)}\n",
    "$$\n",
    "\n",
    "**se** $\\,\\,E_r \\leq tol$ $\\rightarrow x_{i+1}$ é solução.\n",
    "\n",
    "**else**\n",
    "\n",
    "volte ao passo 02."
   ]
  },
  {
   "cell_type": "code",
   "execution_count": null,
   "id": "443b5c75",
   "metadata": {},
   "outputs": [],
   "source": []
  },
  {
   "cell_type": "markdown",
   "id": "89cf1cc7",
   "metadata": {},
   "source": [
    "**------------------------------------------------------------------ Exercícios ------------------------------------------------------------------**"
   ]
  },
  {
   "cell_type": "markdown",
   "id": "1a1a1373",
   "metadata": {},
   "source": [
    "**Exercício 01** - A frequência natural de uma certa viga uniforme possui uma relação com as raízes de $\\alpha_i$ da equação\n",
    "\n",
    "\\begin{equation*}\n",
    "f(\\alpha) = cosh(\\alpha)\\,cos(\\alpha) + 1 = 0,\n",
    "\\end{equation*}\n",
    "onde\n",
    "\\begin{equation*}\n",
    "\\alpha_i^4 = (2\\pi f_i)^2 \\frac{mL^3}{EI}.\n",
    "\\end{equation*}\n",
    "\n",
    "Sendo, $f_i$ a ${i\\_}$ésima frequência natural, $m$ a massa da viga, $L$ o comprimento, $E$ o módulo da elasticidade e $I$ o momento de inércia da seção transversal. Determine as menores frequências de uma viga em aço de $0,9\\,m$ de comprimento, com uma seção transversal de $25\\,mm$ de largura e $2,5\\,mm$ de altura. A densidade de massa do aço é de $7850\\,\\frac{kg}{m^3}$ e $E = 200GPa.$"
   ]
  },
  {
   "cell_type": "code",
   "execution_count": null,
   "id": "fb4a1912",
   "metadata": {},
   "outputs": [],
   "source": []
  },
  {
   "cell_type": "markdown",
   "id": "a6907bec",
   "metadata": {},
   "source": [
    "**Exercício 02** - A velocidade ascendente de um foguete pode ser calculada pela seguinte equação:\n",
    "\n",
    "\\begin{equation*}\n",
    "    v = u.ln\\left ( \\frac{m_0}{m_0 - q.t} \\right )-g.t\n",
    "\\end{equation*}\n",
    "\n",
    "onde $v$ representa a velocidade de subida, $u$ é a velocidade na qual o combustível é repelido com relação ao foguete, $m_0$ é a massa inicial ($t = 0s$), $q$ é a taxa de consumo de combustível, e $g$ a aceleração da gravidade para baixo $g \\approx 9,81 \\frac{m}{s^2}$. Se $u = 2000 \\frac{m}{s}$, $m_0 = 150.000 kg$, e $q = 2700 \\frac{kg}{s}$. Calcule o instante no qual a velocidade é igual a $750 \\frac{m}{s}$ com $10 \\leq t\\leq 50s$. Considere uma tolerância de $10^{-20}$."
   ]
  },
  {
   "cell_type": "code",
   "execution_count": 1,
   "id": "862cc8ca",
   "metadata": {},
   "outputs": [
    {
     "name": "stdout",
     "output_type": "stream",
     "text": [
      "O tempo em que a velocidade atinge 750 m/s é aproximadamente 21.13241513587126974016 segundos.\n"
     ]
    }
   ],
   "source": [
    "import math\n",
    "\n",
    "u = 2000\n",
    "g = 9.81       \n",
    "m0 = 150000     \n",
    "q = 2700        \n",
    "v_desejada = 750  \n",
    "\n",
    "\n",
    "def velocidade(t):\n",
    "    return u * math.log(m0 / (m0 - q * t)) - g * t\n",
    "\n",
    "def funcao_objetivo(t):\n",
    "    return velocidade(t) - v_desejada\n",
    "\n",
    "def bissecao(f, a, b, tol):\n",
    "    while (b - a) / 2 > tol:\n",
    "        c = (a + b) / 2\n",
    "        if f(c) == 0 or (b - a) / 2 < tol:\n",
    "            return c\n",
    "        if f(a) * f(c) < 0:\n",
    "            b = c\n",
    "        else:\n",
    "            a = c\n",
    "    return (a + b) / 2\n",
    "\n",
    "t_min = 10\n",
    "t_max = 50\n",
    "tol = 1e-20 # Com a tolerância de 10^-20 está demorando muito a aparecer o resultado, as vezes nem esta aparecendo.\n",
    "\n",
    "tempo = bissecao(funcao_objetivo, t_min, t_max, tol)\n",
    "\n",
    "print(f\"O tempo em que a velocidade atinge 750 m/s é aproximadamente {tempo:.20f} segundos.\")"
   ]
  },
  {
   "cell_type": "markdown",
   "id": "403a630b",
   "metadata": {},
   "source": [
    "**Exercício 03** - Considerando um dado sistema massa-mola com deslocamento harmônico dado por $y(t) = A\\,sen(\\omega\\,t)$ imposto, a resposta do deslocamento da massa é dado por $x(t) = B sen(\\omega\\,t - \\theta),$ onde\n",
    "\n",
    "\\begin{equation*}\n",
    "\\frac{B}{A} = \\sqrt{(1 + D cos(\\phi))^2 + (D sen(\\phi))^2}\\,\\,\\,\\,e\\,\\,\\,\\, tan(\\theta) = \\frac{D sen(\\phi)}{1 + D cos(\\phi)}.\n",
    "\\end{equation*}\n",
    "\n",
    "Nas duas equações usamos as seguintes notações,\n",
    "\n",
    "\\begin{equation*}\n",
    "D = \\frac{\\left ( \\frac{\\omega}{p} \\right )^2}{\\sqrt{\\left [ 1 - \\left ( \\frac{\\omega}{p} \\right )^2 \\right ]^2+ \\left (  \\frac{2\\zeta \\omega}{p}\\right )^2 }}\\,\\,\\,\\,e\\,\\,\\,\\,tan(\\phi) = \\frac{\\frac{2\\zeta \\omega}{p}}{1 - \\left ( \\frac{\\omega}{p} \\right )^2}\n",
    "\\end{equation*}\n",
    "\n",
    "com $p = \\sqrt{\\frac{k}{m}}$ sendo a frequência natural do sistema e $\\zeta = \\frac{c}{2mp}$ o fator de amortecimento. Considerando, $m = 0,2\\,kg$, $k = 2880\\,\\frac{N}{m},$ e $\\omega = 96\\,\\frac{rad}{s}$. Determine o menor valor de $c$ (coeficiente de amortecimento) de modo que a relação $\\frac{B}{A}$ seja menor ou igual a $1,5$."
   ]
  },
  {
   "cell_type": "code",
   "execution_count": null,
   "id": "e1b0e25a",
   "metadata": {},
   "outputs": [],
   "source": []
  },
  {
   "cell_type": "markdown",
   "id": "3bb4114a",
   "metadata": {},
   "source": [
    "**Exercício 04** - Escreva uma função $\\it {raiz_{-}}$ ${\\it {enesima(x, n, tol)}}$ para calcular $r = \\sqrt[n]{x},$ por meio do método de Newton-Raphson."
   ]
  },
  {
   "cell_type": "code",
   "execution_count": 1,
   "id": "9863415b",
   "metadata": {},
   "outputs": [
    {
     "name": "stdout",
     "output_type": "stream",
     "text": [
      "A raiz 8-ésima de 3 é aproximadamente 1.147202690439877\n"
     ]
    }
   ],
   "source": [
    "import numpy as np \n",
    "\n",
    "def raiz_enesima(x, n, tol=1e-10):\n",
    "    \n",
    "    r = x / n\n",
    "\n",
    "    for _ in range(1000):\n",
    "        novo_valor = r - (r**n - x) / (n * r**(n - 1))\n",
    "        erro_relativo = np.abs(novo_valor - r) / np.abs(novo_valor) \n",
    "\n",
    "        if erro_relativo < tol:\n",
    "            return novo_valor\n",
    "        else:\n",
    "            r = novo_valor    \n",
    "    \n",
    "    return r\n",
    "\n",
    "x = 3\n",
    "n = 8\n",
    "resultado = raiz_enesima(x, n)\n",
    "print(f\"A raiz {n}-ésima de {x} é aproximadamente {resultado}\")"
   ]
  },
  {
   "cell_type": "code",
   "execution_count": null,
   "id": "f41f5948-9963-4a1f-bfae-5f7ea981eac9",
   "metadata": {},
   "outputs": [],
   "source": []
  }
 ],
 "metadata": {
  "kernelspec": {
   "display_name": "Python 3 (ipykernel)",
   "language": "python",
   "name": "python3"
  },
  "language_info": {
   "codemirror_mode": {
    "name": "ipython",
    "version": 3
   },
   "file_extension": ".py",
   "mimetype": "text/x-python",
   "name": "python",
   "nbconvert_exporter": "python",
   "pygments_lexer": "ipython3",
   "version": "3.11.5"
  }
 },
 "nbformat": 4,
 "nbformat_minor": 5
}
