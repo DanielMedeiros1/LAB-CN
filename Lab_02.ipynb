{
  "cells": [
    {
      "cell_type": "markdown",
      "id": "3b95e02b",
      "metadata": {
        "id": "3b95e02b"
      },
      "source": [
        "# **Laboratório 02 - Resolução de Equações Não-lineares**\n",
        "\n",
        "Aluno:\n",
        "\n",
        "**Método da Bissecção**\n",
        "\n",
        "* passo 01 - Entradas $(a, b, tol)$ de modo que $f(a).f(b) < 0.$\n",
        "* passo 02 - Estimativa da raiz\n",
        "$$\n",
        "x_r = \\frac{a + b}{2}\n",
        "$$\n",
        "\n",
        "**se** $\\,\\,f(a).f(x_r) < 0$\n",
        "$$\n",
        "b \\leftarrow x_r\n",
        "$$\n",
        "volte ao passo 02\n",
        "\n",
        "**else**\n",
        "$$\n",
        "a \\leftarrow x_r\n",
        "$$\n",
        "\n",
        "**se** $\\,\\,E_r \\leq tol$ $\\rightarrow x_r$ é solução.\n",
        "\n",
        "\n",
        "Exemplo 01 - Obter uma raiz do seguinte polinômio:\n",
        "\n",
        "$$\n",
        "p(x) = 2x^2 - 5x + 3\n",
        "$$"
      ]
    },
    {
      "cell_type": "code",
      "execution_count": 2,
      "id": "549227ec",
      "metadata": {
        "colab": {
          "base_uri": "https://localhost:8080/",
          "height": 430
        },
        "id": "549227ec",
        "outputId": "70874158-e290-4679-f5bb-5ea7db6985f1"
      },
      "outputs": [
        {
          "output_type": "display_data",
          "data": {
            "text/plain": [
              "<Figure size 640x480 with 1 Axes>"
            ],
            "image/png": "[encoded data removed]"
          },
          "metadata": {}
        }
      ],
      "source": [
        "import numpy as np\n",
        "import matplotlib.pyplot as plt\n",
        "\n",
        "x = np.linspace(0,2,100)\n",
        "fx = 2*x**2 - 5*x + 3\n",
        "\n",
        "fig, ax = plt.subplots()\n",
        "\n",
        "ax.plot(x,fx)\n",
        "ax.plot(x,0*x,'k')\n",
        "ax.grid()\n",
        "plt.show()\n"
      ]
    },
    {
      "cell_type": "code",
      "execution_count": 3,
      "id": "7598e107",
      "metadata": {
        "colab": {
          "base_uri": "https://localhost:8080/"
        },
        "id": "7598e107",
        "outputId": "112ee71b-7e2d-4b63-b47b-fc0a088e1d93"
      },
      "outputs": [
        {
          "output_type": "stream",
          "name": "stdout",
          "text": [
            "Valor de a : 0\n",
            "Valor de b : 1.2\n",
            "Erro tolerável : 0.0001\n",
            "\n",
            "\n",
            "*** IMPLEMENTAÇÃO DO MÉTODO DA BISSECÇÃO ***\n",
            "--------------------------------------------------------------------------\n",
            "iter. \t\t a \t\t b \t\t xr \t\t f(xr)        \n",
            "--------------------------------------------------------------------------\n",
            "1\t\t 0.00000000\t 1.20000000\t 0.60000000\t 0.72000000\t\n",
            "2\t\t 0.60000000\t 1.20000000\t 0.90000000\t 0.12000000\t\n",
            "3\t\t 0.90000000\t 1.20000000\t 1.05000000\t-0.04500000\t\n",
            "4\t\t 0.90000000\t 1.05000000\t 0.97500000\t 0.02625000\t\n",
            "5\t\t 0.97500000\t 1.05000000\t 1.01250000\t-0.01218750\t\n",
            "6\t\t 0.97500000\t 1.01250000\t 0.99375000\t 0.00632813\t\n",
            "7\t\t 0.99375000\t 1.01250000\t 1.00312500\t-0.00310547\t\n",
            "8\t\t 0.99375000\t 1.00312500\t 0.99843750\t 0.00156738\t\n",
            "9\t\t 0.99843750\t 1.00312500\t 1.00078125\t-0.00078003\t\n",
            "10\t\t 0.99843750\t 1.00078125\t 0.99960937\t 0.00039093\t\n",
            "11\t\t 0.99960937\t 1.00078125\t 1.00019531\t-0.00019524\t\n",
            "12\t\t 0.99960937\t 1.00019531\t 0.99990234\t 0.00009768\t\n",
            "\n",
            " A raiz encontrada é  : 0.99990234\n"
          ]
        }
      ],
      "source": [
        "# Método da bissecção para determinação de raízes\n",
        "\n",
        "# Definindo a função\n",
        "def f(x):\n",
        "    return 2*x**2 - 5*x + 3\n",
        "\n",
        "# Implementando o método da bissecção\n",
        "def met_bisseccao(a, b, tol):\n",
        "    n = 1\n",
        "    print('\\n\\n*** IMPLEMENTAÇÃO DO MÉTODO DA BISSECÇÃO ***')\n",
        "    print('--------------------------------------------------------------------------')\n",
        "    print('iter. \\t\\t a \\t\\t b \\t\\t xr \\t\\t f(xr)        ')\n",
        "    print('--------------------------------------------------------------------------')\n",
        "    condicao = True\n",
        "    while condicao:\n",
        "        xr = (a + b) / 2\n",
        "        print('%d\\t\\t% 10.8f\\t% 10.8f\\t% 10.8f\\t% 10.8f\\t' %(n, a, b, xr, f(xr)))\n",
        "\n",
        "        if f(a) * f(xr) < 0:\n",
        "            b = xr\n",
        "        else:\n",
        "            a = xr\n",
        "\n",
        "        n += 1\n",
        "        condicao = abs(f(xr)) > tol\n",
        "\n",
        "    print('\\n A raiz encontrada é  : %0.8f' % xr)\n",
        "\n",
        "\n",
        "# Dados de entrada\n",
        "a = float(input('Valor de a : '))\n",
        "b = float(input('Valor de b : '))\n",
        "tol = float(input('Erro tolerável : '))\n",
        "\n",
        "# Checando se há raiz no intervalo\n",
        "if f(a) * f(b) > 0.0:\n",
        "    print('Não há raiz no intervalo dado. Tente novos valores')\n",
        "else:\n",
        "    met_bisseccao(a, b, tol)"
      ]
    },
    {
      "cell_type": "markdown",
      "id": "d266f59b",
      "metadata": {
        "id": "d266f59b"
      },
      "source": [
        "**Método de Newton**\n",
        "\n",
        "* passo 01 - Defina $tol$ e escolha $x_0$ de modo que\n",
        "\n",
        "$$\n",
        " f(x_0).f^{\\prime \\prime}(x_0) > 0.\n",
        "$$\n",
        "\n",
        "* passo 02 - para $i = 0,1,2, \\cdots , n.$\n",
        "\n",
        "$$\n",
        "x_{i+1} = x_i - \\frac{f(x_i)}{f^{\\prime}(x_i)}\n",
        "$$\n",
        "\n",
        "**se** $\\,\\,E_r \\leq tol$ $\\rightarrow x_{i+1}$ é solução.\n",
        "\n",
        "**else**\n",
        "\n",
        "volte ao passo 02.\n",
        "\n",
        "Exercício 02 - Utilizando o método de Newton. Determine as raízes da função $f(x) = x + 3\\,cos(x) - 2.$"
      ]
    },
    {
      "cell_type": "code",
      "source": [
        "import numpy as np\n",
        "import matplotlib.pyplot as plt\n",
        "\n",
        "x = np.linspace(-2,5,100)\n",
        "fx = x + 3*np.cos(x) - 2\n",
        "\n",
        "fig, ax = plt.subplots()\n",
        "\n",
        "ax.plot(x,fx)\n",
        "ax.grid()\n",
        "plt.show()"
      ],
      "metadata": {
        "colab": {
          "base_uri": "https://localhost:8080/",
          "height": 430
        },
        "id": "VQIyYuja4bU5",
        "outputId": "86a9450c-18f6-497e-db41-1f1c2e804829"
      },
      "id": "VQIyYuja4bU5",
      "execution_count": 4,
      "outputs": [
        {
          "output_type": "display_data",
          "data": {
            "text/plain": [
              "<Figure size 640x480 with 1 Axes>"
            ],
            "image/png": "[encoded data removed]"
          },
          "metadata": {}
        }
      ]
    },
    {
      "cell_type": "code",
      "source": [
        "import numpy as np\n",
        "\n",
        "# Definindo a função\n",
        "def f(x):\n",
        "    return x + 3*np.cos(x) - 2\n",
        "\n",
        "# Definindo a derivada da função\n",
        "def df(x):\n",
        "    return 1 - 3*np.sin(x)\n",
        "\n",
        "# Implementando o método de Newton - Raphson\n",
        "\n",
        "def met_NewtonRaphson(x0,tol,N):\n",
        "    print('\\n\\n*** IMPLEMENTAÇÃO DO MÉTODO DE NEWTON RAPHSON ***')\n",
        "    n = 1\n",
        "    flag = 1\n",
        "    condicao = True\n",
        "    while condicao:\n",
        "        if df(x0) == 0.0:\n",
        "            print('Erro - Divisão por zero!')\n",
        "            break\n",
        "\n",
        "        xr = x0 - f(x0)/df(x0)\n",
        "        print('Iteração %d, x1 = %0.6f and f(x1) = %0.6f' % (n, xr, f(xr)))\n",
        "        x0 = xr\n",
        "        n += 1\n",
        "\n",
        "        if n > N:\n",
        "            flag = 0\n",
        "            break\n",
        "\n",
        "        condicao = abs(f(xr)) > tol\n",
        "\n",
        "    if flag==1:\n",
        "        print('\\n A Raiz desejada é : %0.8f' % xr)\n",
        "    else:\n",
        "        print('\\n Não Convergente.')\n",
        "\n",
        "\n",
        "# Dados de entrada\n",
        "x0 = float(input('Condição Inicial : '))\n",
        "tol = float(input('Erro Tolerável : '))\n",
        "N = int(input('Número máximo de iterações : '))\n",
        "\n",
        "\n",
        "# nicialiando o método de Newton - Raphson\n",
        "met_NewtonRaphson(x0, tol, N)"
      ],
      "metadata": {
        "colab": {
          "base_uri": "https://localhost:8080/"
        },
        "id": "9R8V007b4gPs",
        "outputId": "6dc829a2-1a9f-4339-a271-80566937cb59"
      },
      "id": "9R8V007b4gPs",
      "execution_count": 5,
      "outputs": [
        {
          "output_type": "stream",
          "name": "stdout",
          "text": [
            "Condição Inicial : 0\n",
            "Erro Tolerável : 0.001\n",
            "Número máximo de iterações : 100\n",
            "\n",
            "\n",
            "*** IMPLEMENTAÇÃO DO MÉTODO DE NEWTON RAPHSON ***\n",
            "Iteração 1, x1 = -1.000000 and f(x1) = -1.379093\n",
            "Iteração 2, x1 = -0.608703 and f(x1) = -0.147531\n",
            "Iteração 3, x1 = -0.554372 and f(x1) = -0.003677\n",
            "Iteração 4, x1 = -0.552946 and f(x1) = -0.000003\n",
            "\n",
            " A Raiz desejada é : -0.55294583\n"
          ]
        }
      ]
    },
    {
      "cell_type": "markdown",
      "id": "89cf1cc7",
      "metadata": {
        "id": "89cf1cc7"
      },
      "source": [
        "**------------------------------------------------------------------ Exercícios ------------------------------------------------------------------**"
      ]
    },
    {
      "cell_type": "markdown",
      "id": "1a1a1373",
      "metadata": {
        "id": "1a1a1373"
      },
      "source": [
        "**Exercício 01** - A frequência natural de uma certa viga uniforme possui uma relação com as raízes de $\\alpha_i$ da equação\n",
        "\n",
        "\\begin{equation*}\n",
        "f(\\alpha) = cosh(\\alpha)\\,cos(\\alpha) + 1 = 0,\n",
        "\\end{equation*}\n",
        "onde\n",
        "\\begin{equation*}\n",
        "\\alpha_i^4 = (2\\pi f_i)^2 \\frac{mL^3}{EI}.\n",
        "\\end{equation*}\n",
        "\n",
        "Sendo, $f_i$ a ${i\\_}$ésima frequência natural, $m$ a massa da viga, $L$ o comprimento, $E$ o módulo da elasticidade e $I$ o momento de inércia da seção transversal. Determine as menores frequências de uma viga em aço de $0,9\\,m$ de comprimento, com uma seção transversal de $25\\,mm$ de largura e $2,5\\,mm$ de altura. A densidade de massa do aço é de $7850\\,\\frac{kg}{m^3}$ e $E = 200GPa.$"
      ]
    },
    {
      "cell_type": "code",
      "execution_count": null,
      "id": "fb4a1912",
      "metadata": {
        "id": "fb4a1912"
      },
      "outputs": [],
      "source": []
    },
    {
      "cell_type": "markdown",
      "id": "a6907bec",
      "metadata": {
        "id": "a6907bec"
      },
      "source": [
        "**Exercício 02** - A velocidade ascendente de um foguete pode ser calculada pela seguinte equação:\n",
        "\n",
        "\\begin{equation*}\n",
        "    v = u.ln\\left ( \\frac{m_0}{m_0 - q.t} \\right )-g.t\n",
        "\\end{equation*}\n",
        "\n",
        "onde $v$ representa a velocidade de subida, $u$ é a velocidade na qual o combustível é repelido com relação ao foguete, $m_0$ é a massa inicial ($t = 0s$), $q$ é a taxa de consumo de combustível, e $g$ a aceleração da gravidade para baixo $g \\approx 9,81 \\frac{m}{s^2}$. Se $u = 2000 \\frac{m}{s}$, $m_0 = 150.000 kg$, e $q = 2700 \\frac{kg}{s}$. Calcule o instante no qual a velocidade é igual a $750 \\frac{m}{s}$ com $10 \\leq t\\leq 50s$. Considere uma tolerância de $10^{-20}$."
      ]
    },
    {
      "cell_type": "code",
      "execution_count": null,
      "id": "862cc8ca",
      "metadata": {
        "id": "862cc8ca"
      },
      "outputs": [],
      "source": []
    },
    {
      "cell_type": "markdown",
      "id": "403a630b",
      "metadata": {
        "id": "403a630b"
      },
      "source": [
        "**Exercício 03** - Considerando um dado sistema massa-mola com deslocamento harmônico dado por $y(t) = A\\,sen(\\omega\\,t)$ imposto, a resposta do deslocamento da massa é dado por $x(t) = B sen(\\omega\\,t - \\theta),$ onde\n",
        "\n",
        "\\begin{equation*}\n",
        "\\frac{B}{A} = \\sqrt{(1 + D cos(\\phi))^2 + (D sen(\\phi))^2}\\,\\,\\,\\,e\\,\\,\\,\\, tan(\\theta) = \\frac{D sen(\\phi)}{1 + D cos(\\phi)}.\n",
        "\\end{equation*}\n",
        "\n",
        "Nas duas equações usamos as seguintes notações,\n",
        "\n",
        "\\begin{equation*}\n",
        "D = \\frac{\\left ( \\frac{\\omega}{p} \\right )^2}{\\sqrt{\\left [ 1 - \\left ( \\frac{\\omega}{p} \\right )^2 \\right ]^2+ \\left (  \\frac{2\\zeta \\omega}{p}\\right )^2 }}\\,\\,\\,\\,e\\,\\,\\,\\,tan(\\phi) = \\frac{\\frac{2\\zeta \\omega}{p}}{1 - \\left ( \\frac{\\omega}{p} \\right )^2}\n",
        "\\end{equation*}\n",
        "\n",
        "com $p = \\sqrt{\\frac{k}{m}}$ sendo a frequência natural do sistema e $\\zeta = \\frac{c}{2mp}$ o fator de amortecimento. Considerando, $m = 0,2\\,kg$, $k = 2880\\,\\frac{N}{m},$ e $\\omega = 96\\,\\frac{rad}{s}$. Determine o menor valor de $c$ (coeficiente de amortecimento) de modo que a relação $\\frac{B}{A}$ seja menor ou igual a $1,5$."
      ]
    },
    {
      "cell_type": "code",
      "execution_count": null,
      "id": "e1b0e25a",
      "metadata": {
        "id": "e1b0e25a"
      },
      "outputs": [],
      "source": []
    },
    {
      "cell_type": "markdown",
      "id": "3bb4114a",
      "metadata": {
        "id": "3bb4114a"
      },
      "source": [
        "**Exercício 04** - Escreva uma função $\\it {raiz_{-}}$ ${\\it {enesima(x, n, tol)}}$ para calcular $r = \\sqrt[n]{x},$ por meio do método de Newton-Raphson."
      ]
    },
    {
      "cell_type": "code",
      "execution_count": null,
      "id": "9863415b",
      "metadata": {
        "id": "9863415b"
      },
      "outputs": [],
      "source": []
    }
  ],
  "metadata": {
    "kernelspec": {
      "display_name": "Python 3",
      "language": "python",
      "name": "python3"
    },
    "language_info": {
      "codemirror_mode": {
        "name": "ipython",
        "version": 3
      },
      "file_extension": ".py",
      "mimetype": "text/x-python",
      "name": "python",
      "nbconvert_exporter": "python",
      "pygments_lexer": "ipython3",
      "version": "3.12.10"
    },
    "colab": {
      "provenance": []
    }
  },
  "nbformat": 4,
  "nbformat_minor": 5
}